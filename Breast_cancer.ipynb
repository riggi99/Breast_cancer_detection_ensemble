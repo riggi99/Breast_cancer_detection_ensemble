{
 "cells": [
  {
   "cell_type": "code",
   "execution_count": 1,
   "metadata": {},
   "outputs": [],
   "source": [
    "import pandas as pd\n",
    "import numpy as nd\n",
    "import seaborn as sns\n",
    "from matplotlib import pyplot as plt\n"
   ]
  },
  {
   "cell_type": "code",
   "execution_count": 2,
   "metadata": {},
   "outputs": [
    {
     "name": "stdout",
     "output_type": "stream",
     "text": [
      "C:\\Users\\DKIN\\Desktop\\Python code\n"
     ]
    }
   ],
   "source": [
    "import os\n",
    "print(os.getcwd())"
   ]
  },
  {
   "cell_type": "code",
   "execution_count": 3,
   "metadata": {},
   "outputs": [],
   "source": [
    "df = pd.read_csv(\"./data_set/breast-cancer-wisconsin.data\", names = ['id number','Clump Thickness','Cell Size','Cell Shape','Marginal Adhesion','Single Epithelial Cell Size','Bare Nuclei','Bland Chromatin','Normal Nucleoli','Mitoses','Class'])"
   ]
  },
  {
   "cell_type": "code",
   "execution_count": 4,
   "metadata": {},
   "outputs": [
    {
     "name": "stdout",
     "output_type": "stream",
     "text": [
      "   id number  Clump Thickness  Cell Size  Cell Shape  Marginal Adhesion  \\\n",
      "0    1000025                5          1           1                  1   \n",
      "1    1002945                5          4           4                  5   \n",
      "2    1015425                3          1           1                  1   \n",
      "3    1016277                6          8           8                  1   \n",
      "4    1017023                4          1           1                  3   \n",
      "\n",
      "   Single Epithelial Cell Size Bare Nuclei  Bland Chromatin  Normal Nucleoli  \\\n",
      "0                            2           1                3                1   \n",
      "1                            7          10                3                2   \n",
      "2                            2           2                3                1   \n",
      "3                            3           4                3                7   \n",
      "4                            2           1                3                1   \n",
      "\n",
      "   Mitoses  Class  \n",
      "0        1      2  \n",
      "1        1      2  \n",
      "2        1      2  \n",
      "3        1      2  \n",
      "4        1      2  \n"
     ]
    }
   ],
   "source": [
    "print(df.head())"
   ]
  },
  {
   "cell_type": "code",
   "execution_count": 5,
   "metadata": {},
   "outputs": [
    {
     "name": "stdout",
     "output_type": "stream",
     "text": [
      "<class 'pandas.core.frame.DataFrame'>\n",
      "RangeIndex: 699 entries, 0 to 698\n",
      "Data columns (total 11 columns):\n",
      "id number                      699 non-null int64\n",
      "Clump Thickness                699 non-null int64\n",
      "Cell Size                      699 non-null int64\n",
      "Cell Shape                     699 non-null int64\n",
      "Marginal Adhesion              699 non-null int64\n",
      "Single Epithelial Cell Size    699 non-null int64\n",
      "Bare Nuclei                    699 non-null object\n",
      "Bland Chromatin                699 non-null int64\n",
      "Normal Nucleoli                699 non-null int64\n",
      "Mitoses                        699 non-null int64\n",
      "Class                          699 non-null int64\n",
      "dtypes: int64(10), object(1)\n",
      "memory usage: 60.1+ KB\n"
     ]
    }
   ],
   "source": [
    "df.info()"
   ]
  },
  {
   "cell_type": "code",
   "execution_count": 6,
   "metadata": {},
   "outputs": [
    {
     "data": {
      "text/plain": [
       "1     402\n",
       "10    132\n",
       "5      30\n",
       "2      30\n",
       "3      28\n",
       "8      21\n",
       "4      19\n",
       "?      16\n",
       "9       9\n",
       "7       8\n",
       "6       4\n",
       "Name: Bare Nuclei, dtype: int64"
      ]
     },
     "execution_count": 6,
     "metadata": {},
     "output_type": "execute_result"
    }
   ],
   "source": [
    "df['Bare Nuclei'].value_counts()"
   ]
  },
  {
   "cell_type": "code",
   "execution_count": 7,
   "metadata": {},
   "outputs": [],
   "source": [
    "df[['Bare Nuclei']]=(df['Bare Nuclei'].replace('?',0)).astype(int)\n"
   ]
  },
  {
   "cell_type": "code",
   "execution_count": 8,
   "metadata": {},
   "outputs": [
    {
     "name": "stdout",
     "output_type": "stream",
     "text": [
      "<class 'pandas.core.frame.DataFrame'>\n",
      "RangeIndex: 699 entries, 0 to 698\n",
      "Data columns (total 11 columns):\n",
      "id number                      699 non-null int64\n",
      "Clump Thickness                699 non-null int64\n",
      "Cell Size                      699 non-null int64\n",
      "Cell Shape                     699 non-null int64\n",
      "Marginal Adhesion              699 non-null int64\n",
      "Single Epithelial Cell Size    699 non-null int64\n",
      "Bare Nuclei                    699 non-null int32\n",
      "Bland Chromatin                699 non-null int64\n",
      "Normal Nucleoli                699 non-null int64\n",
      "Mitoses                        699 non-null int64\n",
      "Class                          699 non-null int64\n",
      "dtypes: int32(1), int64(10)\n",
      "memory usage: 57.4 KB\n"
     ]
    }
   ],
   "source": [
    "df.info()"
   ]
  },
  {
   "cell_type": "code",
   "execution_count": null,
   "metadata": {},
   "outputs": [],
   "source": []
  },
  {
   "cell_type": "code",
   "execution_count": null,
   "metadata": {},
   "outputs": [],
   "source": []
  },
  {
   "cell_type": "code",
   "execution_count": null,
   "metadata": {},
   "outputs": [],
   "source": []
  },
  {
   "cell_type": "code",
   "execution_count": 9,
   "metadata": {},
   "outputs": [
    {
     "data": {
      "image/png": "[encoded data removed]",
      "text/plain": [
       "<Figure size 432x288 with 1 Axes>"
      ]
     },
     "metadata": {
      "needs_background": "light"
     },
     "output_type": "display_data"
    }
   ],
   "source": [
    "# from matplotlib import pyplot as plt\n",
    "# fig = plt.figure()\n",
    "# plt.bar(can_typ)\n",
    "# plt.show()\n",
    "df['Class'].value_counts().plot(kind='bar');\n"
   ]
  },
  {
   "cell_type": "code",
   "execution_count": 10,
   "metadata": {},
   "outputs": [
    {
     "data": {
      "text/html": [
       "<div>\n",
       "<style scoped>\n",
       "    .dataframe tbody tr th:only-of-type {\n",
       "        vertical-align: middle;\n",
       "    }\n",
       "\n",
       "    .dataframe tbody tr th {\n",
       "        vertical-align: top;\n",
       "    }\n",
       "\n",
       "    .dataframe thead th {\n",
       "        text-align: right;\n",
       "    }\n",
       "</style>\n",
       "<table border=\"1\" class=\"dataframe\">\n",
       "  <thead>\n",
       "    <tr style=\"text-align: right;\">\n",
       "      <th></th>\n",
       "      <th>Clump Thickness</th>\n",
       "      <th>Cell Size</th>\n",
       "      <th>Cell Shape</th>\n",
       "      <th>Marginal Adhesion</th>\n",
       "      <th>Single Epithelial Cell Size</th>\n",
       "      <th>Bare Nuclei</th>\n",
       "      <th>Bland Chromatin</th>\n",
       "      <th>Normal Nucleoli</th>\n",
       "      <th>Mitoses</th>\n",
       "      <th>Class</th>\n",
       "    </tr>\n",
       "  </thead>\n",
       "  <tbody>\n",
       "    <tr>\n",
       "      <th>Clump Thickness</th>\n",
       "      <td>1.000000</td>\n",
       "      <td>0.644913</td>\n",
       "      <td>0.654589</td>\n",
       "      <td>0.486356</td>\n",
       "      <td>0.521816</td>\n",
       "      <td>0.589296</td>\n",
       "      <td>0.558428</td>\n",
       "      <td>0.535835</td>\n",
       "      <td>0.350034</td>\n",
       "      <td>0.716001</td>\n",
       "    </tr>\n",
       "    <tr>\n",
       "      <th>Cell Size</th>\n",
       "      <td>0.644913</td>\n",
       "      <td>1.000000</td>\n",
       "      <td>0.906882</td>\n",
       "      <td>0.705582</td>\n",
       "      <td>0.751799</td>\n",
       "      <td>0.684569</td>\n",
       "      <td>0.755721</td>\n",
       "      <td>0.722865</td>\n",
       "      <td>0.458693</td>\n",
       "      <td>0.817904</td>\n",
       "    </tr>\n",
       "    <tr>\n",
       "      <th>Cell Shape</th>\n",
       "      <td>0.654589</td>\n",
       "      <td>0.906882</td>\n",
       "      <td>1.000000</td>\n",
       "      <td>0.683079</td>\n",
       "      <td>0.719668</td>\n",
       "      <td>0.704529</td>\n",
       "      <td>0.735948</td>\n",
       "      <td>0.719446</td>\n",
       "      <td>0.438911</td>\n",
       "      <td>0.818934</td>\n",
       "    </tr>\n",
       "    <tr>\n",
       "      <th>Marginal Adhesion</th>\n",
       "      <td>0.486356</td>\n",
       "      <td>0.705582</td>\n",
       "      <td>0.683079</td>\n",
       "      <td>1.000000</td>\n",
       "      <td>0.599599</td>\n",
       "      <td>0.665723</td>\n",
       "      <td>0.666715</td>\n",
       "      <td>0.603352</td>\n",
       "      <td>0.417633</td>\n",
       "      <td>0.696800</td>\n",
       "    </tr>\n",
       "    <tr>\n",
       "      <th>Single Epithelial Cell Size</th>\n",
       "      <td>0.521816</td>\n",
       "      <td>0.751799</td>\n",
       "      <td>0.719668</td>\n",
       "      <td>0.599599</td>\n",
       "      <td>1.000000</td>\n",
       "      <td>0.582904</td>\n",
       "      <td>0.616102</td>\n",
       "      <td>0.628881</td>\n",
       "      <td>0.479101</td>\n",
       "      <td>0.682785</td>\n",
       "    </tr>\n",
       "    <tr>\n",
       "      <th>Bare Nuclei</th>\n",
       "      <td>0.589296</td>\n",
       "      <td>0.684569</td>\n",
       "      <td>0.704529</td>\n",
       "      <td>0.665723</td>\n",
       "      <td>0.582904</td>\n",
       "      <td>1.000000</td>\n",
       "      <td>0.671545</td>\n",
       "      <td>0.572054</td>\n",
       "      <td>0.342795</td>\n",
       "      <td>0.817653</td>\n",
       "    </tr>\n",
       "    <tr>\n",
       "      <th>Bland Chromatin</th>\n",
       "      <td>0.558428</td>\n",
       "      <td>0.755721</td>\n",
       "      <td>0.735948</td>\n",
       "      <td>0.666715</td>\n",
       "      <td>0.616102</td>\n",
       "      <td>0.671545</td>\n",
       "      <td>1.000000</td>\n",
       "      <td>0.665878</td>\n",
       "      <td>0.344169</td>\n",
       "      <td>0.756616</td>\n",
       "    </tr>\n",
       "    <tr>\n",
       "      <th>Normal Nucleoli</th>\n",
       "      <td>0.535835</td>\n",
       "      <td>0.722865</td>\n",
       "      <td>0.719446</td>\n",
       "      <td>0.603352</td>\n",
       "      <td>0.628881</td>\n",
       "      <td>0.572054</td>\n",
       "      <td>0.665878</td>\n",
       "      <td>1.000000</td>\n",
       "      <td>0.428336</td>\n",
       "      <td>0.712244</td>\n",
       "    </tr>\n",
       "    <tr>\n",
       "      <th>Mitoses</th>\n",
       "      <td>0.350034</td>\n",
       "      <td>0.458693</td>\n",
       "      <td>0.438911</td>\n",
       "      <td>0.417633</td>\n",
       "      <td>0.479101</td>\n",
       "      <td>0.342795</td>\n",
       "      <td>0.344169</td>\n",
       "      <td>0.428336</td>\n",
       "      <td>1.000000</td>\n",
       "      <td>0.423170</td>\n",
       "    </tr>\n",
       "    <tr>\n",
       "      <th>Class</th>\n",
       "      <td>0.716001</td>\n",
       "      <td>0.817904</td>\n",
       "      <td>0.818934</td>\n",
       "      <td>0.696800</td>\n",
       "      <td>0.682785</td>\n",
       "      <td>0.817653</td>\n",
       "      <td>0.756616</td>\n",
       "      <td>0.712244</td>\n",
       "      <td>0.423170</td>\n",
       "      <td>1.000000</td>\n",
       "    </tr>\n",
       "  </tbody>\n",
       "</table>\n",
       "</div>"
      ],
      "text/plain": [
       "                             Clump Thickness  Cell Size  Cell Shape  \\\n",
       "Clump Thickness                     1.000000   0.644913    0.654589   \n",
       "Cell Size                           0.644913   1.000000    0.906882   \n",
       "Cell Shape                          0.654589   0.906882    1.000000   \n",
       "Marginal Adhesion                   0.486356   0.705582    0.683079   \n",
       "Single Epithelial Cell Size         0.521816   0.751799    0.719668   \n",
       "Bare Nuclei                         0.589296   0.684569    0.704529   \n",
       "Bland Chromatin                     0.558428   0.755721    0.735948   \n",
       "Normal Nucleoli                     0.535835   0.722865    0.719446   \n",
       "Mitoses                             0.350034   0.458693    0.438911   \n",
       "Class                               0.716001   0.817904    0.818934   \n",
       "\n",
       "                             Marginal Adhesion  Single Epithelial Cell Size  \\\n",
       "Clump Thickness                       0.486356                     0.521816   \n",
       "Cell Size                             0.705582                     0.751799   \n",
       "Cell Shape                            0.683079                     0.719668   \n",
       "Marginal Adhesion                     1.000000                     0.599599   \n",
       "Single Epithelial Cell Size           0.599599                     1.000000   \n",
       "Bare Nuclei                           0.665723                     0.582904   \n",
       "Bland Chromatin                       0.666715                     0.616102   \n",
       "Normal Nucleoli                       0.603352                     0.628881   \n",
       "Mitoses                               0.417633                     0.479101   \n",
       "Class                                 0.696800                     0.682785   \n",
       "\n",
       "                             Bare Nuclei  Bland Chromatin  Normal Nucleoli  \\\n",
       "Clump Thickness                 0.589296         0.558428         0.535835   \n",
       "Cell Size                       0.684569         0.755721         0.722865   \n",
       "Cell Shape                      0.704529         0.735948         0.719446   \n",
       "Marginal Adhesion               0.665723         0.666715         0.603352   \n",
       "Single Epithelial Cell Size     0.582904         0.616102         0.628881   \n",
       "Bare Nuclei                     1.000000         0.671545         0.572054   \n",
       "Bland Chromatin                 0.671545         1.000000         0.665878   \n",
       "Normal Nucleoli                 0.572054         0.665878         1.000000   \n",
       "Mitoses                         0.342795         0.344169         0.428336   \n",
       "Class                           0.817653         0.756616         0.712244   \n",
       "\n",
       "                              Mitoses     Class  \n",
       "Clump Thickness              0.350034  0.716001  \n",
       "Cell Size                    0.458693  0.817904  \n",
       "Cell Shape                   0.438911  0.818934  \n",
       "Marginal Adhesion            0.417633  0.696800  \n",
       "Single Epithelial Cell Size  0.479101  0.682785  \n",
       "Bare Nuclei                  0.342795  0.817653  \n",
       "Bland Chromatin              0.344169  0.756616  \n",
       "Normal Nucleoli              0.428336  0.712244  \n",
       "Mitoses                      1.000000  0.423170  \n",
       "Class                        0.423170  1.000000  "
      ]
     },
     "execution_count": 10,
     "metadata": {},
     "output_type": "execute_result"
    }
   ],
   "source": [
    "df.iloc[:,1:11].corr()"
   ]
  },
  {
   "cell_type": "code",
   "execution_count": 11,
   "metadata": {},
   "outputs": [
    {
     "data": {
      "text/plain": [
       "<matplotlib.axes._subplots.AxesSubplot at 0x287d8d12f60>"
      ]
     },
     "execution_count": 11,
     "metadata": {},
     "output_type": "execute_result"
    },
    {
     "data": {
      "image/png": "[encoded data removed]",
      "text/plain": [
       "<Figure size 720x720 with 2 Axes>"
      ]
     },
     "metadata": {
      "needs_background": "light"
     },
     "output_type": "display_data"
    }
   ],
   "source": [
    "plt.figure(figsize=(10 ,10))\n",
    "sns.heatmap(df.iloc[:,1:11].corr(),annot = True,fmt='.0%')"
   ]
  },
  {
   "cell_type": "code",
   "execution_count": 12,
   "metadata": {},
   "outputs": [],
   "source": [
    "X = df.iloc[:,1:10].values\n",
    "y= df.iloc[:,-1].values"
   ]
  },
  {
   "cell_type": "code",
   "execution_count": 13,
   "metadata": {},
   "outputs": [],
   "source": [
    "from sklearn.model_selection import train_test_split\n",
    "X_train , x_test, y_train, y_test = train_test_split(X, y,test_size=0.25, random_state=0)\n"
   ]
  },
  {
   "cell_type": "code",
   "execution_count": 14,
   "metadata": {},
   "outputs": [],
   "source": [
    "#Scaling data so that all data are at same range\n",
    "from sklearn.preprocessing import StandardScaler\n",
    "sc = StandardScaler()\n",
    "X_train = sc.fit_transform(X_train)\n",
    "x_test = sc.fit_transform(x_test)"
   ]
  },
  {
   "cell_type": "code",
   "execution_count": 18,
   "metadata": {},
   "outputs": [],
   "source": [
    "def model (X_train,y_train):\n",
    "    #Logistic Regression\n",
    "    from sklearn.linear_model import LogisticRegression\n",
    "    log=LogisticRegression(random_state=0)\n",
    "    log.fit(X_train,y_train)\n",
    "    \n",
    "    #Decision tree\n",
    "    from sklearn.tree import DecisionTreeClassifier\n",
    "    tree=DecisionTreeClassifier(criterion=\"entropy\",random_state=0)\n",
    "    tree.fit(X_train,y_train)\n",
    "    \n",
    "    #Random forest\n",
    "    from sklearn.ensemble import RandomForestClassifier\n",
    "    forest=RandomForestClassifier(n_estimators =10, criterion =\"entropy\",random_state=0)\n",
    "    forest.fit(X_train,y_train)\n",
    "    \n",
    "    print('[0] Logistic Regression:',log.score(X_train,y_train))\n",
    "    print('[1] Decision Tree :',tree.score(X_train,y_train))\n",
    "    print('[2] Random forest:',forest.score(X_train,y_train))\n",
    "    \n",
    "    return log, tree, forest"
   ]
  },
  {
   "cell_type": "markdown",
   "metadata": {},
   "source": [
    "model=model(X_train,y_train)"
   ]
  },
  {
   "cell_type": "code",
   "execution_count": 19,
   "metadata": {},
   "outputs": [
    {
     "name": "stderr",
     "output_type": "stream",
     "text": [
      "C:\\ProgramData\\Anaconda3\\lib\\site-packages\\sklearn\\linear_model\\logistic.py:432: FutureWarning: Default solver will be changed to 'lbfgs' in 0.22. Specify a solver to silence this warning.\n",
      "  FutureWarning)\n"
     ]
    },
    {
     "name": "stdout",
     "output_type": "stream",
     "text": [
      "[0] Logistic Regression: 0.9713740458015268\n",
      "[1] Decision Tree : 1.0\n",
      "[2] Random forest: 0.9942748091603053\n"
     ]
    }
   ],
   "source": [
    "model=model(X_train, y_train)"
   ]
  },
  {
   "cell_type": "code",
   "execution_count": 28,
   "metadata": {},
   "outputs": [
    {
     "name": "stdout",
     "output_type": "stream",
     "text": [
      "0\n",
      "Test_Accuracy=  0.9657142857142857\n",
      "1\n",
      "Test_Accuracy=  0.9371428571428572\n",
      "2\n",
      "Test_Accuracy=  0.9657142857142857\n"
     ]
    }
   ],
   "source": [
    "from sklearn.metrics import confusion_matrix\n",
    "for i in range(len(model)):\n",
    "    print(i)\n",
    "    cm= confusion_matrix(y_test,model[i].predict(x_test))\n",
    "    TP =cm[0][0]\n",
    "    TN = cm[1][1]\n",
    "    FN = cm[1][0]\n",
    "    FP = cm[0][1]\n",
    "    print('Test_Accuracy= ',(TP+TN)/(TP+TN+FN+FP))"
   ]
  },
  {
   "cell_type": "code",
   "execution_count": 30,
   "metadata": {},
   "outputs": [
    {
     "name": "stdout",
     "output_type": "stream",
     "text": [
      "Model:  0\n",
      "              precision    recall  f1-score   support\n",
      "\n",
      "           2       0.97      0.97      0.97       112\n",
      "           4       0.95      0.95      0.95        63\n",
      "\n",
      "    accuracy                           0.97       175\n",
      "   macro avg       0.96      0.96      0.96       175\n",
      "weighted avg       0.97      0.97      0.97       175\n",
      "\n",
      "0.9657142857142857\n",
      "Model:  1\n",
      "              precision    recall  f1-score   support\n",
      "\n",
      "           2       0.95      0.96      0.95       112\n",
      "           4       0.92      0.90      0.91        63\n",
      "\n",
      "    accuracy                           0.94       175\n",
      "   macro avg       0.93      0.93      0.93       175\n",
      "weighted avg       0.94      0.94      0.94       175\n",
      "\n",
      "0.9371428571428572\n",
      "Model:  2\n",
      "              precision    recall  f1-score   support\n",
      "\n",
      "           2       0.97      0.97      0.97       112\n",
      "           4       0.95      0.95      0.95        63\n",
      "\n",
      "    accuracy                           0.97       175\n",
      "   macro avg       0.96      0.96      0.96       175\n",
      "weighted avg       0.97      0.97      0.97       175\n",
      "\n",
      "0.9657142857142857\n"
     ]
    }
   ],
   "source": [
    "# using following method we can get at metrices\n",
    "from sklearn.metrics import classification_report, accuracy_score\n",
    "for i in range(len(model)):\n",
    "    print('Model: ', i)\n",
    "    print(classification_report(y_test,model[i].predict(x_test)))\n",
    "    print(accuracy_score(y_test,model[i].predict(x_test)))"
   ]
  },
  {
   "cell_type": "code",
   "execution_count": null,
   "metadata": {},
   "outputs": [],
   "source": []
  }
 ],
 "metadata": {
  "kernelspec": {
   "display_name": "Python 3",
   "language": "python",
   "name": "python3"
  },
  "language_info": {
   "codemirror_mode": {
    "name": "ipython",
    "version": 3
   },
   "file_extension": ".py",
   "mimetype": "text/x-python",
   "name": "python",
   "nbconvert_exporter": "python",
   "pygments_lexer": "ipython3",
   "version": "3.7.3"
  }
 },
 "nbformat": 4,
 "nbformat_minor": 2
}
